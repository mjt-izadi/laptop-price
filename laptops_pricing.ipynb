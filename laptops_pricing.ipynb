{
 "cells": [
  {
   "cell_type": "markdown",
   "id": "2bac9228-dc2e-4df4-bb8a-239ccb08757f",
   "metadata": {},
   "source": [
    " This notebook is a project for the Data Analysis with Python course by IBM on Coursera.\n",
    "\n",
    "## Part 1- Data Wrangling\n",
    "\n",
    "The objectives of this section are:\n",
    "\n",
    " - Handling missing data\n",
    " - Normalizing\n",
    " - Visualizing the data as grouped bar graph using Binning\n",
    " - Cnverting a categorical data into numerical indicator variables"
   ]
  },
  {
   "cell_type": "markdown",
   "metadata": {},
   "source": [
    "The following commented lines are used to download the \"laptops.csv\" file. If the file already exists, there is no need to run the folloing cell."
   ]
  },
  {
   "cell_type": "code",
   "execution_count": null,
   "metadata": {},
   "outputs": [],
   "source": [
    "# import requests\n",
    "\n",
    "# URL = \"https://cf-courses-data.s3.us.cloud-object-storage.appdomain.cloud/IBMDeveloperSkillsNetwork-DA0101EN-Coursera/laptop_pricing_dataset_mod1.csv\"\n",
    "# file_name = \"laptops.csv\"\n",
    "# response = requests.get(URL)\n",
    "# with open(file_name, \"wb\") as f:\n",
    "#     f.write(response.content)"
   ]
  },
  {
   "cell_type": "code",
   "execution_count": null,
   "id": "4d221d60-5d1a-4cf7-9d38-6d9b6af4e492",
   "metadata": {},
   "outputs": [],
   "source": [
    "# Import the required packages\n",
    "import numpy as np\n",
    "import pandas as pd\n",
    "import matplotlib.pyplot as plt\n",
    "%matplotlib inline"
   ]
  },
  {
   "cell_type": "code",
   "execution_count": null,
   "id": "0cac0ef8-d631-4740-88ad-0e5864bd342d",
   "metadata": {},
   "outputs": [],
   "source": [
    "# Load data into a pandas DataFrame\n",
    "file_name=\"laptops.csv\"\n",
    "df = pd.read_csv(file_name, header=0)\n",
    "df.info()"
   ]
  },
  {
   "cell_type": "markdown",
   "metadata": {},
   "source": [
    "The first column is an index from the csv file and can be dropped."
   ]
  },
  {
   "cell_type": "code",
   "execution_count": null,
   "id": "9723e862-efed-4818-86e6-05b0b1de7829",
   "metadata": {},
   "outputs": [],
   "source": [
    "df.drop(columns=[\"Unnamed: 0\"], inplace=True)"
   ]
  },
  {
   "cell_type": "markdown",
   "metadata": {},
   "source": [
    "### Evaluating the dataset for missing data"
   ]
  },
  {
   "cell_type": "code",
   "execution_count": null,
   "id": "87383cbc-8ae0-41f3-9485-b08a497aafa9",
   "metadata": {},
   "outputs": [],
   "source": [
    "missing_data_df = df.isnull()\n",
    "# for column in missing_data.columns.values.tolist():\n",
    "for column in missing_data_df.columns:\n",
    "    entry_count = missing_data_df[column].value_counts().iloc[0]\n",
    "    if entry_count != missing_data_df.shape[0]:\n",
    "        print(column, \"\\t\", missing_data_df.shape[0] - entry_count, \"missing value(s)\")"
   ]
  },
  {
   "cell_type": "code",
   "execution_count": null,
   "metadata": {},
   "outputs": [],
   "source": [
    "# Checking if the dtype of these columns is float\n",
    "df[[\"Screen_Size_cm\", \"Weight_kg\"]].dtypes"
   ]
  },
  {
   "cell_type": "markdown",
   "id": "e56359eb-176e-41bd-b6e4-8d95627d0acf",
   "metadata": {},
   "source": [
    "Values in \"Weight_kg\" attribute are continuous in nature. The missing values are replaced by the average value of the attribute."
   ]
  },
  {
   "cell_type": "code",
   "execution_count": null,
   "id": "ec3c0167-a9f6-446b-8a9a-feba9fa20118",
   "metadata": {},
   "outputs": [],
   "source": [
    "df[\"Weight_kg\"].replace(np.nan, df[\"Weight_kg\"].mean(), inplace=True)"
   ]
  },
  {
   "cell_type": "markdown",
   "id": "6d79d4d5-ad39-462e-89fe-b98f422fd651",
   "metadata": {},
   "source": [
    "Missing values in attributes that have categorical data, such as \"Screen_Size_cm\", are best replaced using the most frequent value."
   ]
  },
  {
   "cell_type": "code",
   "execution_count": null,
   "id": "184e539f-03c6-4dd6-b130-1e8e2e772c67",
   "metadata": {},
   "outputs": [],
   "source": [
    "common_screen_size = df['Screen_Size_cm'].value_counts().idxmax()\n",
    "df[\"Screen_Size_cm\"].replace(np.nan, common_screen_size, inplace=True)"
   ]
  },
  {
   "cell_type": "markdown",
   "id": "382e9576-d09f-4335-b1c3-4fd4074c2518",
   "metadata": {},
   "source": [
    "### Data Normalization"
   ]
  },
  {
   "cell_type": "code",
   "execution_count": null,
   "id": "a7f5e9a3-8e3f-419b-9cc0-97a9b9b52052",
   "metadata": {},
   "outputs": [],
   "source": [
    "# Normalizing the \"CPU_frequency\" attribute with respect to the maximum value\n",
    "print(df[\"CPU_frequency\"].dtypes)\n",
    "df[\"CPU_frequency\"] = df[\"CPU_frequency\"] / df[\"CPU_frequency\"].max()"
   ]
  },
  {
   "cell_type": "markdown",
   "id": "5a6b136b-1937-4415-a71e-9d553714d2fd",
   "metadata": {},
   "source": [
    "### Binning\n",
    "Binning is a process of creating a categorical attribute which splits the values of a continuous data into a specified number of groups. The attribute price is considered in 3 bins, named \"Low\", \"Medium\" and \"High\". The new attribute will be named \"Price-binned\"."
   ]
  },
  {
   "cell_type": "code",
   "execution_count": null,
   "id": "710de918-ee41-4e5b-84d7-2228e57f9ae8",
   "metadata": {},
   "outputs": [],
   "source": [
    "print(df[\"Price\"].dtypes)\n",
    "# price_bins = np.linspace(df[\"Price\"].min(), df[\"Price\"].max(), 4)\n",
    "# group_names = ['Low', 'Medium', 'High']\n",
    "# df['Price-binned'] = pd.cut(df['Price'], price_bins, labels=group_names, include_lowest=True )\n",
    "df.head()"
   ]
  },
  {
   "cell_type": "code",
   "execution_count": null,
   "id": "6b4073ac-2ebd-47b8-ae42-a925c3104af6",
   "metadata": {},
   "outputs": [],
   "source": [
    "# plt.bar(group_names, df[\"Price-binned\"].value_counts())\n",
    "# plt.xlabel(\"Price\")\n",
    "# plt.ylabel(\"count\")\n",
    "# plt.title(\"Price bins\")"
   ]
  },
  {
   "cell_type": "markdown",
   "id": "e10e9c79-4f10-4f94-a368-ab267c0625ff",
   "metadata": {},
   "source": [
    "Converting the \"Screen\" attribute into 2 indicator variables, \"Screen-IPS_panel\" and \"Screen-Full_HD\"."
   ]
  },
  {
   "cell_type": "code",
   "execution_count": null,
   "id": "7ca65603-3682-4122-86bd-a7dd7b44a205",
   "metadata": {},
   "outputs": [],
   "source": [
    "dummy = pd.get_dummies(df[\"Screen\"])\n",
    "dummy.rename(columns={'IPS Panel': 'Screen-IPS_panel', 'Full HD': 'Screen-Full_HD'}, inplace=True)\n",
    "df = pd.concat([df, dummy], axis=1)\n",
    "df.drop(\"Screen\", axis = 1, inplace=True)\n",
    "df.head()"
   ]
  },
  {
   "cell_type": "markdown",
   "id": "e7881825-7d79-4a36-b559-630476ffc7f9",
   "metadata": {},
   "source": [
    "## Part 2- Exploratory Data Analysis\n",
    "\n",
    "The objectives of this section are:\n",
    " - Visualizing individual feature patterns\n",
    " - Running descriptive statistical analysis\n",
    " - Using groups and pivot tables to find the effect of categorical variables on price\n",
    " - Using Pearson Correlation to measure the interdependence between variables"
   ]
  },
  {
   "cell_type": "code",
   "execution_count": null,
   "id": "2734b70a-0e97-4dd9-b616-94b4e8dafdf9",
   "metadata": {},
   "outputs": [],
   "source": [
    "import seaborn as sns\n",
    "from scipy import stats"
   ]
  },
  {
   "cell_type": "markdown",
   "metadata": {},
   "source": [
    "# Descriptive Statistical Analysis"
   ]
  },
  {
   "cell_type": "code",
   "execution_count": null,
   "metadata": {},
   "outputs": [],
   "source": [
    "print(df.describe())\n",
    "print(df.describe(include=['object']))"
   ]
  },
  {
   "cell_type": "markdown",
   "id": "e5accdfb-d822-410f-8522-47bbb142d3a4",
   "metadata": {},
   "source": [
    "# Visualizing individual feature patterns\n",
    "For continuous variables, generating regression plots for \"CPU_frequency\", \"Screen_Size_inch\" and \"Weight_pounds\" against \"Price\"."
   ]
  },
  {
   "cell_type": "code",
   "execution_count": null,
   "id": "70c2e7a0-fce7-4f4d-bed6-798ccf47a477",
   "metadata": {},
   "outputs": [],
   "source": [
    "fig, axes = plt.subplots(1, 3)\n",
    "for k, feature in enumerate([\"CPU_frequency\", \"Screen_Size_cm\", \"Weight_kg\"]):\n",
    "    sns.regplot(x=feature, y=\"Price\", data=df, ax=axes[k])\n",
    "fig.set_size_inches([12.8, 4.8])\n",
    "df[[\"CPU_frequency\", \"Screen_Size_cm\", \"Weight_kg\", \"Price\"]].corr()"
   ]
  },
  {
   "cell_type": "markdown",
   "id": "a330a759-0682-49d5-befc-30d48bb419c8",
   "metadata": {},
   "source": [
    "\"CPU_frequency\" has a 36% positive correlation with the price of the laptops. The other two parameters have weak correlation with price.\n"
   ]
  },
  {
   "cell_type": "markdown",
   "id": "bcec3412-5892-4187-ade4-dd1534ddf9bf",
   "metadata": {},
   "source": [
    "For categorical features, generating Box plots for \"Category\", \"GPU\", \"OS\", \"CPU_core\", \"RAM_GB\", \"Storage_GB_SSD\"."
   ]
  },
  {
   "cell_type": "code",
   "execution_count": null,
   "id": "27075dc8-1dab-4a9a-8776-3cdd372c518f",
   "metadata": {},
   "outputs": [],
   "source": [
    "fig, axes = plt.subplots(2, 3)\n",
    "for k, feature in enumerate([\"Category\", \"GPU\", \"OS\", \"CPU_core\", \"RAM_GB\", \"Storage_GB_SSD\"]):\n",
    "    sns.boxplot(x=feature, y=\"Price\", data=df, ax=axes[k//3, np.mod(k, 3)])\n",
    "fig.set_size_inches([2*6.4, 1.5*4.8])"
   ]
  },
  {
   "cell_type": "markdown",
   "id": "5f13444d-10a5-4165-a4d7-3a662ce9f507",
   "metadata": {},
   "source": [
    "# GroupBy and Pivot Tables\n",
    "Grouping \"GPU\", \"CPU_core\" and \"Price\" to make a pivot table and visualizing the connection."
   ]
  },
  {
   "cell_type": "code",
   "execution_count": null,
   "id": "f31fe111-f8f0-4d71-88c6-dee6419a3bf5",
   "metadata": {},
   "outputs": [],
   "source": [
    "df_grouped = df[[\"GPU\", \"CPU_core\", \"Price\"]].groupby([\"GPU\", \"CPU_core\"], as_index=False).mean()\n",
    "df_grouped"
   ]
  },
  {
   "cell_type": "code",
   "execution_count": null,
   "id": "b794b3a8-719f-419f-9c96-b276fa549de2",
   "metadata": {},
   "outputs": [],
   "source": [
    "grouped_pivot = df_grouped.pivot(index='GPU', columns='CPU_core')\n",
    "grouped_pivot"
   ]
  },
  {
   "cell_type": "code",
   "execution_count": null,
   "id": "88d2a8cf-ffe4-40aa-9bac-cb1779f994c4",
   "metadata": {},
   "outputs": [],
   "source": [
    "fig, ax = plt.subplots()\n",
    "im = ax.pcolor(grouped_pivot, cmap='RdBu')\n",
    "\n",
    "row_labels = grouped_pivot.columns.levels[1]\n",
    "col_labels = grouped_pivot.index\n",
    "ax.set_xticks(np.arange(grouped_pivot.shape[1]) + 0.5, minor=False)\n",
    "ax.set_yticks(np.arange(grouped_pivot.shape[0]) + 0.5, minor=False)\n",
    "ax.set_xticklabels(row_labels, minor=False)\n",
    "ax.set_yticklabels(col_labels, minor=False)\n",
    "ax.set_xlabel(\"CPU cores\")\n",
    "ax.set_ylabel(\"GPU\")\n",
    "\n",
    "fig.colorbar(im)"
   ]
  },
  {
   "cell_type": "markdown",
   "id": "47cb8d6d-6c35-4586-bf75-ff73ca0904d7",
   "metadata": {},
   "source": [
    "Evaluating the Pearson Coefficient and the p-values for each parameter to determine the features with most effect on the price"
   ]
  },
  {
   "cell_type": "code",
   "execution_count": 11,
   "id": "9eabb5bf-b794-4553-bbaa-b27808e8e04e",
   "metadata": {},
   "outputs": [
    {
     "name": "stdout",
     "output_type": "stream",
     "text": [
      "Category\n",
      "Pearson Correlation Coefficient =  0.2862427558126411 \t p-value =  7.2256962358084185e-06\n",
      "\n",
      "GPU\n",
      "Pearson Correlation Coefficient =  0.28829819888814257 \t p-value =  6.16694969836594e-06\n",
      "\n",
      "OS\n",
      "Pearson Correlation Coefficient =  -0.2217298011482737 \t p-value =  0.0005696642559248124\n",
      "\n",
      "CPU_core\n",
      "Pearson Correlation Coefficient =  0.4593977773355116 \t p-value =  7.912950127011088e-14\n",
      "\n",
      "Screen_Size_cm\n",
      "Pearson Correlation Coefficient =  -0.11064420817118295 \t p-value =  0.0885339784683266\n",
      "\n",
      "CPU_frequency\n",
      "Pearson Correlation Coefficient =  0.3666655589258862 \t p-value =  5.502463350714563e-09\n",
      "\n",
      "RAM_GB\n",
      "Pearson Correlation Coefficient =  0.5492972971857846 \t p-value =  3.681560628843529e-20\n",
      "\n",
      "Storage_GB_SSD\n",
      "Pearson Correlation Coefficient =  0.24342075521810302 \t p-value =  0.00014898923191727792\n",
      "\n",
      "Weight_kg\n",
      "Pearson Correlation Coefficient =  -0.05031225837751543 \t p-value =  0.4397693853434932\n",
      "\n"
     ]
    }
   ],
   "source": [
    "for param in ['Category', 'GPU', 'OS', 'CPU_core', 'Screen_Size_cm', 'CPU_frequency',\n",
    "              'RAM_GB', 'Storage_GB_SSD', 'Weight_kg']:\n",
    "    pearson_coef, p_value = stats.pearsonr(df[param], df['Price'])\n",
    "    print(param)\n",
    "    print(\"Pearson Correlation Coefficient = \", pearson_coef, \"\\t p-value = \", p_value)\n",
    "    print()"
   ]
  },
  {
   "cell_type": "markdown",
   "id": "aee18fee-b76e-41f2-a6af-1a47c6c32e9f",
   "metadata": {},
   "source": [
    "## Part 3- Model Development\n",
    "# Objectives\n",
    " - Use Linear Regression in one variable to fit the parameters to a model\n",
    " - Use Linear Regression in multiple variables to fit the parameters to a model\n",
    " - Use Polynomial Regression in single variable tofit the parameters to a model\n",
    " - Create a pipeline for performing linear regression using multiple features in polynomial scaling\n",
    " - Evaluate the performance of different forms of regression on basis of MSE and R-squared parameters"
   ]
  },
  {
   "cell_type": "code",
   "execution_count": 12,
   "id": "53997d4e-d446-41fb-aa1e-9709f47b412a",
   "metadata": {},
   "outputs": [],
   "source": [
    "from sklearn.linear_model import LinearRegression\n",
    "from sklearn.metrics import mean_squared_error, r2_score\n",
    "from sklearn.pipeline import Pipeline\n",
    "from sklearn.preprocessing import StandardScaler, PolynomialFeatures"
   ]
  },
  {
   "cell_type": "markdown",
   "id": "245caa52-7d7e-4cd0-9110-f923654d65d6",
   "metadata": {},
   "source": [
    "# Single Linear Regression\n",
    "Createing a single feature Linear Regression model that fits the pair of \"CPU_frequency\" and \"Price\" to find the model for prediction."
   ]
  },
  {
   "cell_type": "code",
   "execution_count": 37,
   "id": "401c6c6d-bb62-4fe8-9494-afeac595dc92",
   "metadata": {},
   "outputs": [],
   "source": [
    "X, Y  = (df[[\"CPU_frequency\"]], df[\"Price\"])\n",
    "lm1 = LinearRegression()\n",
    "lm1.fit(X, Y)\n",
    "\n",
    "Y_pred = lm1.predict(X)"
   ]
  },
  {
   "cell_type": "markdown",
   "id": "7d70d309-db2a-4d41-b751-92fdfd041fb8",
   "metadata": {},
   "source": [
    "Generating the distribution plot for the predicted values and that of the actual values."
   ]
  },
  {
   "cell_type": "code",
   "execution_count": 38,
   "id": "6448c312-b897-4bbc-9620-04af9f0be145",
   "metadata": {},
   "outputs": [
    {
     "data": {
      "text/plain": [
       "<matplotlib.legend.Legend at 0x177a343d0>"
      ]
     },
     "execution_count": 38,
     "metadata": {},
     "output_type": "execute_result"
    },
    {
     "data": {
      "image/png": "[encoded data removed]",
      "text/plain": [
       "<Figure size 640x480 with 1 Axes>"
      ]
     },
     "metadata": {},
     "output_type": "display_data"
    }
   ],
   "source": [
    "ax1 = sns.kdeplot(Y, color=\"r\", label=\"Actual\")\n",
    "sns.kdeplot(Y_pred, color=\"b\", label=\"Fitted\" , ax=ax1)\n",
    "\n",
    "plt.xlabel('Price')\n",
    "plt.ylabel('Proportion of laptops')\n",
    "plt.legend()"
   ]
  },
  {
   "cell_type": "markdown",
   "id": "90d5feb2-c810-439f-82ce-fb88283051d6",
   "metadata": {},
   "source": [
    "Evaluating the MSE and $R^2$ score values for the model."
   ]
  },
  {
   "cell_type": "code",
   "execution_count": 42,
   "id": "479507ce-99f7-4e1f-888c-80e6bfcb8d19",
   "metadata": {},
   "outputs": [
    {
     "name": "stdout",
     "output_type": "stream",
     "text": [
      "R-squared for Linear Regression is:  0.1344436321024326\n",
      "MSE of price and predicted value is:  284583.4405868629\n"
     ]
    }
   ],
   "source": [
    "mse_slr = mean_squared_error(Y, Y_pred)\n",
    "r2_slr = r2_score(Y, Y_pred)\n",
    "# r2_slr = lm1.score(X, Y)\n",
    "print('R-squared for Linear Regression is: ', r2_slr)\n",
    "print('MSE of price and predicted value is: ', mse_slr)"
   ]
  },
  {
   "cell_type": "markdown",
   "id": "a4c2a523-7cc8-4a67-a790-293f1d8464d4",
   "metadata": {},
   "source": [
    "# Multiple Linear Regression\n",
    "The parameters with a low enough p-value so as to indicate strong relationship with the 'Price' value are 'CPU_frequency', 'RAM_GB', 'Storage_GB_SSD', 'CPU_core', 'OS', 'GPU' and 'Category'. Using all these variables to create a Multiple Linear Regression system."
   ]
  },
  {
   "cell_type": "code",
   "execution_count": 40,
   "id": "ddd393e1-f779-4001-a901-a70e59f98967",
   "metadata": {},
   "outputs": [],
   "source": [
    "X_mlr = df[['CPU_frequency', 'RAM_GB', 'Storage_GB_SSD', 'CPU_core', 'OS', 'GPU', 'Category']]\n",
    "lm2 = LinearRegression()\n",
    "lm2.fit(X_mlr, Y)\n",
    "\n",
    "Y_pred_mlr = lm2.predict(X_mlr)"
   ]
  },
  {
   "cell_type": "code",
   "execution_count": 49,
   "id": "6d9c4d2e-4d00-45db-9950-48b322c22b34",
   "metadata": {},
   "outputs": [
    {
     "data": {
      "text/plain": [
       "<matplotlib.legend.Legend at 0x16a611250>"
      ]
     },
     "execution_count": 49,
     "metadata": {},
     "output_type": "execute_result"
    },
    {
     "data": {
      "image/png": "[encoded data removed]",
      "text/plain": [
       "<Figure size 640x480 with 1 Axes>"
      ]
     },
     "metadata": {},
     "output_type": "display_data"
    }
   ],
   "source": [
    "ax2 = sns.kdeplot(Y, color=\"r\", label=\"Actual\")\n",
    "sns.kdeplot(Y_pred_mlr, color=\"b\", label=\"Fitted\" , ax=ax2)\n",
    "\n",
    "plt.xlabel('Price')\n",
    "plt.ylabel('Proportion of laptops')\n",
    "plt.legend()"
   ]
  },
  {
   "cell_type": "code",
   "execution_count": 44,
   "id": "3a6dd1c2-6893-4f3a-aebf-e6955c52c586",
   "metadata": {},
   "outputs": [
    {
     "name": "stdout",
     "output_type": "stream",
     "text": [
      "R-squared for Multiple Regression is:  0.5082509055187374\n",
      "MSE of price and predicted value is:  161680.57263893107\n"
     ]
    }
   ],
   "source": [
    "mse_mlr = mean_squared_error(Y, Y_pred_mlr)\n",
    "r2_mlr = r2_score(Y, Y_pred_mlr)\n",
    "print('R-squared for Multiple Regression is: ', r2_mlr)\n",
    "print('MSE of price and predicted value is: ', mse_mlr)"
   ]
  },
  {
   "cell_type": "markdown",
   "id": "cdcb609f-5700-4184-88b5-28ced4de75f3",
   "metadata": {},
   "source": [
    "# Polynomial Regression and Pipeline\n",
    "Creating a pipeline that performs parameter scaling, Polynomial Feature generation and Linear regression."
   ]
  },
  {
   "cell_type": "code",
   "execution_count": 63,
   "id": "41e4230e-d3e8-463c-a570-2759b8856903",
   "metadata": {},
   "outputs": [],
   "source": [
    "#  Write your code below and press Shift+Enter to execute\n",
    "Input = [('scale', StandardScaler()),\n",
    "         ('polynomial', PolynomialFeatures(degree=3, include_bias=False)),\n",
    "         ('model', LinearRegression())]\n",
    "pipe = Pipeline(Input)\n",
    "Z = X_mlr.astype(float)\n",
    "pipe.fit(Z, Y)\n",
    "Y_pred_pipe = pipe.predict(Z)"
   ]
  },
  {
   "cell_type": "code",
   "execution_count": 64,
   "metadata": {},
   "outputs": [
    {
     "data": {
      "text/plain": [
       "<matplotlib.legend.Legend at 0x177d2b210>"
      ]
     },
     "execution_count": 64,
     "metadata": {},
     "output_type": "execute_result"
    },
    {
     "data": {
      "image/png": "[encoded data removed]",
      "text/plain": [
       "<Figure size 640x480 with 1 Axes>"
      ]
     },
     "metadata": {},
     "output_type": "display_data"
    }
   ],
   "source": [
    "ax3 = sns.kdeplot(Y, color=\"r\", label=\"Actual\")\n",
    "sns.kdeplot(Y_pred_pipe, color=\"b\", label=\"Fitted\" , ax=ax3)\n",
    "\n",
    "plt.xlabel('Price')\n",
    "plt.ylabel('Proportion of laptops')\n",
    "plt.legend()"
   ]
  },
  {
   "cell_type": "code",
   "execution_count": 65,
   "id": "fb87d314-1551-47e0-bcd6-bbe587055100",
   "metadata": {},
   "outputs": [
    {
     "name": "stdout",
     "output_type": "stream",
     "text": [
      "R-squared for Multiple Regression is:  0.7255452042965074\n",
      "MSE of price and predicted value is:  90237.09251493566\n"
     ]
    }
   ],
   "source": [
    "mse_pipe = mean_squared_error(Y, Y_pred_pipe)\n",
    "r2_pipe = r2_score(Y, Y_pred_pipe)\n",
    "print('R-squared for Multiple Regression is: ', r2_pipe)\n",
    "print('MSE of price and predicted value is: ', mse_pipe)"
   ]
  }
 ],
 "metadata": {
  "kernelspec": {
   "display_name": "Python 3",
   "language": "python",
   "name": "python3"
  },
  "language_info": {
   "codemirror_mode": {
    "name": "ipython",
    "version": 3
   },
   "file_extension": ".py",
   "mimetype": "text/x-python",
   "name": "python",
   "nbconvert_exporter": "python",
   "pygments_lexer": "ipython3",
   "version": "3.11.1"
  }
 },
 "nbformat": 4,
 "nbformat_minor": 4
}
