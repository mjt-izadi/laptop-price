{
 "cells": [
  {
   "cell_type": "markdown",
   "id": "2bac9228-dc2e-4df4-bb8a-239ccb08757f",
   "metadata": {},
   "source": [
    " This notebook is a project for the Data Analysis with Python course by IBM on Coursera.\n",
    "\n",
    "## Part 1- Data Wrangling\n",
    "\n",
    "The objectives of this section are:\n",
    "\n",
    " - Handling missing data\n",
    " - Normalizing\n",
    " - Visualizing the data as grouped bar graph using Binning\n",
    " - Cnverting a categorical data into numerical indicator variables"
   ]
  },
  {
   "cell_type": "markdown",
   "metadata": {},
   "source": [
    "The following commented lines are used to download the \"laptops.csv\" file. If the file already exists, there is no need to run the folloing cell."
   ]
  },
  {
   "cell_type": "code",
   "execution_count": null,
   "metadata": {},
   "outputs": [],
   "source": [
    "# import requests\n",
    "\n",
    "# URL = \"https://cf-courses-data.s3.us.cloud-object-storage.appdomain.cloud/IBMDeveloperSkillsNetwork-DA0101EN-Coursera/laptop_pricing_dataset_mod1.csv\"\n",
    "# file_name = \"laptops.csv\"\n",
    "# response = requests.get(URL)\n",
    "# with open(file_name, \"wb\") as f:\n",
    "#     f.write(response.content)"
   ]
  },
  {
   "cell_type": "code",
   "execution_count": 1,
   "id": "4d221d60-5d1a-4cf7-9d38-6d9b6af4e492",
   "metadata": {},
   "outputs": [],
   "source": [
    "# Import the required packages\n",
    "import numpy as np\n",
    "import pandas as pd\n",
    "import matplotlib.pyplot as plt\n",
    "%matplotlib inline"
   ]
  },
  {
   "cell_type": "code",
   "execution_count": 2,
   "id": "0cac0ef8-d631-4740-88ad-0e5864bd342d",
   "metadata": {},
   "outputs": [
    {
     "name": "stdout",
     "output_type": "stream",
     "text": [
      "<class 'pandas.core.frame.DataFrame'>\n",
      "RangeIndex: 238 entries, 0 to 237\n",
      "Data columns (total 13 columns):\n",
      " #   Column          Non-Null Count  Dtype  \n",
      "---  ------          --------------  -----  \n",
      " 0   Unnamed: 0      238 non-null    int64  \n",
      " 1   Manufacturer    238 non-null    object \n",
      " 2   Category        238 non-null    int64  \n",
      " 3   Screen          238 non-null    object \n",
      " 4   GPU             238 non-null    int64  \n",
      " 5   OS              238 non-null    int64  \n",
      " 6   CPU_core        238 non-null    int64  \n",
      " 7   Screen_Size_cm  234 non-null    float64\n",
      " 8   CPU_frequency   238 non-null    float64\n",
      " 9   RAM_GB          238 non-null    int64  \n",
      " 10  Storage_GB_SSD  238 non-null    int64  \n",
      " 11  Weight_kg       233 non-null    float64\n",
      " 12  Price           238 non-null    int64  \n",
      "dtypes: float64(3), int64(8), object(2)\n",
      "memory usage: 24.3+ KB\n"
     ]
    }
   ],
   "source": [
    "# Load data into a pandas DataFrame\n",
    "file_name=\"laptops.csv\"\n",
    "df = pd.read_csv(file_name, header=0)\n",
    "df.info()"
   ]
  },
  {
   "cell_type": "markdown",
   "metadata": {},
   "source": [
    "The first column is an index from the csv file and can be dropped."
   ]
  },
  {
   "cell_type": "code",
   "execution_count": 3,
   "id": "9723e862-efed-4818-86e6-05b0b1de7829",
   "metadata": {},
   "outputs": [],
   "source": [
    "df.drop(columns=[\"Unnamed: 0\"], inplace=True)"
   ]
  },
  {
   "cell_type": "markdown",
   "metadata": {},
   "source": [
    "### Evaluating the dataset for missing data"
   ]
  },
  {
   "cell_type": "code",
   "execution_count": 4,
   "id": "87383cbc-8ae0-41f3-9485-b08a497aafa9",
   "metadata": {},
   "outputs": [
    {
     "name": "stdout",
     "output_type": "stream",
     "text": [
      "Screen_Size_cm \t 4 missing value(s)\n",
      "Weight_kg \t 5 missing value(s)\n"
     ]
    }
   ],
   "source": [
    "missing_data_df = df.isnull()\n",
    "# for column in missing_data.columns.values.tolist():\n",
    "for column in missing_data_df.columns:\n",
    "    entry_count = missing_data_df[column].value_counts().iloc[0]\n",
    "    if entry_count != missing_data_df.shape[0]:\n",
    "        print(column, \"\\t\", missing_data_df.shape[0] - entry_count, \"missing value(s)\")"
   ]
  },
  {
   "cell_type": "code",
   "execution_count": 5,
   "metadata": {},
   "outputs": [
    {
     "data": {
      "text/plain": [
       "Screen_Size_cm    float64\n",
       "Weight_kg         float64\n",
       "dtype: object"
      ]
     },
     "execution_count": 5,
     "metadata": {},
     "output_type": "execute_result"
    }
   ],
   "source": [
    "# Checking if the dtype of these columns is float\n",
    "df[[\"Screen_Size_cm\", \"Weight_kg\"]].dtypes"
   ]
  },
  {
   "cell_type": "markdown",
   "id": "e56359eb-176e-41bd-b6e4-8d95627d0acf",
   "metadata": {},
   "source": [
    "Values in \"Weight_kg\" attribute are continuous in nature. The missing values are replaced by the average value of the attribute."
   ]
  },
  {
   "cell_type": "code",
   "execution_count": 6,
   "id": "ec3c0167-a9f6-446b-8a9a-feba9fa20118",
   "metadata": {},
   "outputs": [],
   "source": [
    "df[\"Weight_kg\"].replace(np.nan, df[\"Weight_kg\"].mean(), inplace=True)"
   ]
  },
  {
   "cell_type": "markdown",
   "id": "6d79d4d5-ad39-462e-89fe-b98f422fd651",
   "metadata": {},
   "source": [
    "Missing values in attributes that have categorical data, such as \"Screen_Size_cm\", are best replaced using the most frequent value."
   ]
  },
  {
   "cell_type": "code",
   "execution_count": 7,
   "id": "184e539f-03c6-4dd6-b130-1e8e2e772c67",
   "metadata": {},
   "outputs": [],
   "source": [
    "common_screen_size = df['Screen_Size_cm'].value_counts().idxmax()\n",
    "df[\"Screen_Size_cm\"].replace(np.nan, common_screen_size, inplace=True)"
   ]
  },
  {
   "cell_type": "markdown",
   "id": "382e9576-d09f-4335-b1c3-4fd4074c2518",
   "metadata": {},
   "source": [
    "### Data Normalization"
   ]
  },
  {
   "cell_type": "code",
   "execution_count": 8,
   "id": "a7f5e9a3-8e3f-419b-9cc0-97a9b9b52052",
   "metadata": {},
   "outputs": [
    {
     "name": "stdout",
     "output_type": "stream",
     "text": [
      "float64\n"
     ]
    }
   ],
   "source": [
    "# Normalizing the \"CPU_frequency\" attribute with respect to the maximum value\n",
    "print(df[\"CPU_frequency\"].dtypes)\n",
    "df[\"CPU_frequency\"] = df[\"CPU_frequency\"] / df[\"CPU_frequency\"].max()"
   ]
  },
  {
   "cell_type": "markdown",
   "id": "5a6b136b-1937-4415-a71e-9d553714d2fd",
   "metadata": {},
   "source": [
    "### Binning\n",
    "Binning is a process of creating a categorical attribute which splits the values of a continuous data into a specified number of groups. The attribute price is considered in 3 bins, named \"Low\", \"Medium\" and \"High\". The new attribute will be named \"Price-binned\"."
   ]
  },
  {
   "cell_type": "code",
   "execution_count": 9,
   "id": "710de918-ee41-4e5b-84d7-2228e57f9ae8",
   "metadata": {},
   "outputs": [
    {
     "name": "stdout",
     "output_type": "stream",
     "text": [
      "int64\n"
     ]
    },
    {
     "data": {
      "text/html": [
       "<div>\n",
       "<style scoped>\n",
       "    .dataframe tbody tr th:only-of-type {\n",
       "        vertical-align: middle;\n",
       "    }\n",
       "\n",
       "    .dataframe tbody tr th {\n",
       "        vertical-align: top;\n",
       "    }\n",
       "\n",
       "    .dataframe thead th {\n",
       "        text-align: right;\n",
       "    }\n",
       "</style>\n",
       "<table border=\"1\" class=\"dataframe\">\n",
       "  <thead>\n",
       "    <tr style=\"text-align: right;\">\n",
       "      <th></th>\n",
       "      <th>Manufacturer</th>\n",
       "      <th>Category</th>\n",
       "      <th>Screen</th>\n",
       "      <th>GPU</th>\n",
       "      <th>OS</th>\n",
       "      <th>CPU_core</th>\n",
       "      <th>Screen_Size_cm</th>\n",
       "      <th>CPU_frequency</th>\n",
       "      <th>RAM_GB</th>\n",
       "      <th>Storage_GB_SSD</th>\n",
       "      <th>Weight_kg</th>\n",
       "      <th>Price</th>\n",
       "    </tr>\n",
       "  </thead>\n",
       "  <tbody>\n",
       "    <tr>\n",
       "      <th>0</th>\n",
       "      <td>Acer</td>\n",
       "      <td>4</td>\n",
       "      <td>IPS Panel</td>\n",
       "      <td>2</td>\n",
       "      <td>1</td>\n",
       "      <td>5</td>\n",
       "      <td>35.560</td>\n",
       "      <td>0.551724</td>\n",
       "      <td>8</td>\n",
       "      <td>256</td>\n",
       "      <td>1.60</td>\n",
       "      <td>978</td>\n",
       "    </tr>\n",
       "    <tr>\n",
       "      <th>1</th>\n",
       "      <td>Dell</td>\n",
       "      <td>3</td>\n",
       "      <td>Full HD</td>\n",
       "      <td>1</td>\n",
       "      <td>1</td>\n",
       "      <td>3</td>\n",
       "      <td>39.624</td>\n",
       "      <td>0.689655</td>\n",
       "      <td>4</td>\n",
       "      <td>256</td>\n",
       "      <td>2.20</td>\n",
       "      <td>634</td>\n",
       "    </tr>\n",
       "    <tr>\n",
       "      <th>2</th>\n",
       "      <td>Dell</td>\n",
       "      <td>3</td>\n",
       "      <td>Full HD</td>\n",
       "      <td>1</td>\n",
       "      <td>1</td>\n",
       "      <td>7</td>\n",
       "      <td>39.624</td>\n",
       "      <td>0.931034</td>\n",
       "      <td>8</td>\n",
       "      <td>256</td>\n",
       "      <td>2.20</td>\n",
       "      <td>946</td>\n",
       "    </tr>\n",
       "    <tr>\n",
       "      <th>3</th>\n",
       "      <td>Dell</td>\n",
       "      <td>4</td>\n",
       "      <td>IPS Panel</td>\n",
       "      <td>2</td>\n",
       "      <td>1</td>\n",
       "      <td>5</td>\n",
       "      <td>33.782</td>\n",
       "      <td>0.551724</td>\n",
       "      <td>8</td>\n",
       "      <td>128</td>\n",
       "      <td>1.22</td>\n",
       "      <td>1244</td>\n",
       "    </tr>\n",
       "    <tr>\n",
       "      <th>4</th>\n",
       "      <td>HP</td>\n",
       "      <td>4</td>\n",
       "      <td>Full HD</td>\n",
       "      <td>2</td>\n",
       "      <td>1</td>\n",
       "      <td>7</td>\n",
       "      <td>39.624</td>\n",
       "      <td>0.620690</td>\n",
       "      <td>8</td>\n",
       "      <td>256</td>\n",
       "      <td>1.91</td>\n",
       "      <td>837</td>\n",
       "    </tr>\n",
       "  </tbody>\n",
       "</table>\n",
       "</div>"
      ],
      "text/plain": [
       "  Manufacturer  Category     Screen  GPU  OS  CPU_core  Screen_Size_cm  \\\n",
       "0         Acer         4  IPS Panel    2   1         5          35.560   \n",
       "1         Dell         3    Full HD    1   1         3          39.624   \n",
       "2         Dell         3    Full HD    1   1         7          39.624   \n",
       "3         Dell         4  IPS Panel    2   1         5          33.782   \n",
       "4           HP         4    Full HD    2   1         7          39.624   \n",
       "\n",
       "   CPU_frequency  RAM_GB  Storage_GB_SSD  Weight_kg  Price  \n",
       "0       0.551724       8             256       1.60    978  \n",
       "1       0.689655       4             256       2.20    634  \n",
       "2       0.931034       8             256       2.20    946  \n",
       "3       0.551724       8             128       1.22   1244  \n",
       "4       0.620690       8             256       1.91    837  "
      ]
     },
     "execution_count": 9,
     "metadata": {},
     "output_type": "execute_result"
    }
   ],
   "source": [
    "print(df[\"Price\"].dtypes)\n",
    "# price_bins = np.linspace(df[\"Price\"].min(), df[\"Price\"].max(), 4)\n",
    "# group_names = ['Low', 'Medium', 'High']\n",
    "# df['Price-binned'] = pd.cut(df['Price'], price_bins, labels=group_names, include_lowest=True )\n",
    "df.head()"
   ]
  },
  {
   "cell_type": "code",
   "execution_count": null,
   "id": "6b4073ac-2ebd-47b8-ae42-a925c3104af6",
   "metadata": {},
   "outputs": [],
   "source": [
    "# plt.bar(group_names, df[\"Price-binned\"].value_counts())\n",
    "# plt.xlabel(\"Price\")\n",
    "# plt.ylabel(\"count\")\n",
    "# plt.title(\"Price bins\")"
   ]
  },
  {
   "cell_type": "markdown",
   "id": "e10e9c79-4f10-4f94-a368-ab267c0625ff",
   "metadata": {},
   "source": [
    "Converting the \"Screen\" attribute into 2 indicator variables, \"Screen-IPS_panel\" and \"Screen-Full_HD\"."
   ]
  },
  {
   "cell_type": "code",
   "execution_count": 10,
   "id": "7ca65603-3682-4122-86bd-a7dd7b44a205",
   "metadata": {},
   "outputs": [
    {
     "data": {
      "text/html": [
       "<div>\n",
       "<style scoped>\n",
       "    .dataframe tbody tr th:only-of-type {\n",
       "        vertical-align: middle;\n",
       "    }\n",
       "\n",
       "    .dataframe tbody tr th {\n",
       "        vertical-align: top;\n",
       "    }\n",
       "\n",
       "    .dataframe thead th {\n",
       "        text-align: right;\n",
       "    }\n",
       "</style>\n",
       "<table border=\"1\" class=\"dataframe\">\n",
       "  <thead>\n",
       "    <tr style=\"text-align: right;\">\n",
       "      <th></th>\n",
       "      <th>Manufacturer</th>\n",
       "      <th>Category</th>\n",
       "      <th>GPU</th>\n",
       "      <th>OS</th>\n",
       "      <th>CPU_core</th>\n",
       "      <th>Screen_Size_cm</th>\n",
       "      <th>CPU_frequency</th>\n",
       "      <th>RAM_GB</th>\n",
       "      <th>Storage_GB_SSD</th>\n",
       "      <th>Weight_kg</th>\n",
       "      <th>Price</th>\n",
       "      <th>Screen-Full_HD</th>\n",
       "      <th>Screen-IPS_panel</th>\n",
       "    </tr>\n",
       "  </thead>\n",
       "  <tbody>\n",
       "    <tr>\n",
       "      <th>0</th>\n",
       "      <td>Acer</td>\n",
       "      <td>4</td>\n",
       "      <td>2</td>\n",
       "      <td>1</td>\n",
       "      <td>5</td>\n",
       "      <td>35.560</td>\n",
       "      <td>0.551724</td>\n",
       "      <td>8</td>\n",
       "      <td>256</td>\n",
       "      <td>1.60</td>\n",
       "      <td>978</td>\n",
       "      <td>False</td>\n",
       "      <td>True</td>\n",
       "    </tr>\n",
       "    <tr>\n",
       "      <th>1</th>\n",
       "      <td>Dell</td>\n",
       "      <td>3</td>\n",
       "      <td>1</td>\n",
       "      <td>1</td>\n",
       "      <td>3</td>\n",
       "      <td>39.624</td>\n",
       "      <td>0.689655</td>\n",
       "      <td>4</td>\n",
       "      <td>256</td>\n",
       "      <td>2.20</td>\n",
       "      <td>634</td>\n",
       "      <td>True</td>\n",
       "      <td>False</td>\n",
       "    </tr>\n",
       "    <tr>\n",
       "      <th>2</th>\n",
       "      <td>Dell</td>\n",
       "      <td>3</td>\n",
       "      <td>1</td>\n",
       "      <td>1</td>\n",
       "      <td>7</td>\n",
       "      <td>39.624</td>\n",
       "      <td>0.931034</td>\n",
       "      <td>8</td>\n",
       "      <td>256</td>\n",
       "      <td>2.20</td>\n",
       "      <td>946</td>\n",
       "      <td>True</td>\n",
       "      <td>False</td>\n",
       "    </tr>\n",
       "    <tr>\n",
       "      <th>3</th>\n",
       "      <td>Dell</td>\n",
       "      <td>4</td>\n",
       "      <td>2</td>\n",
       "      <td>1</td>\n",
       "      <td>5</td>\n",
       "      <td>33.782</td>\n",
       "      <td>0.551724</td>\n",
       "      <td>8</td>\n",
       "      <td>128</td>\n",
       "      <td>1.22</td>\n",
       "      <td>1244</td>\n",
       "      <td>False</td>\n",
       "      <td>True</td>\n",
       "    </tr>\n",
       "    <tr>\n",
       "      <th>4</th>\n",
       "      <td>HP</td>\n",
       "      <td>4</td>\n",
       "      <td>2</td>\n",
       "      <td>1</td>\n",
       "      <td>7</td>\n",
       "      <td>39.624</td>\n",
       "      <td>0.620690</td>\n",
       "      <td>8</td>\n",
       "      <td>256</td>\n",
       "      <td>1.91</td>\n",
       "      <td>837</td>\n",
       "      <td>True</td>\n",
       "      <td>False</td>\n",
       "    </tr>\n",
       "  </tbody>\n",
       "</table>\n",
       "</div>"
      ],
      "text/plain": [
       "  Manufacturer  Category  GPU  OS  CPU_core  Screen_Size_cm  CPU_frequency  \\\n",
       "0         Acer         4    2   1         5          35.560       0.551724   \n",
       "1         Dell         3    1   1         3          39.624       0.689655   \n",
       "2         Dell         3    1   1         7          39.624       0.931034   \n",
       "3         Dell         4    2   1         5          33.782       0.551724   \n",
       "4           HP         4    2   1         7          39.624       0.620690   \n",
       "\n",
       "   RAM_GB  Storage_GB_SSD  Weight_kg  Price  Screen-Full_HD  Screen-IPS_panel  \n",
       "0       8             256       1.60    978           False              True  \n",
       "1       4             256       2.20    634            True             False  \n",
       "2       8             256       2.20    946            True             False  \n",
       "3       8             128       1.22   1244           False              True  \n",
       "4       8             256       1.91    837            True             False  "
      ]
     },
     "execution_count": 10,
     "metadata": {},
     "output_type": "execute_result"
    }
   ],
   "source": [
    "dummy = pd.get_dummies(df[\"Screen\"])\n",
    "dummy.rename(columns={'IPS Panel': 'Screen-IPS_panel', 'Full HD': 'Screen-Full_HD'}, inplace=True)\n",
    "df = pd.concat([df, dummy], axis=1)\n",
    "df.drop(\"Screen\", axis = 1, inplace=True)\n",
    "df.head()"
   ]
  },
  {
   "cell_type": "markdown",
   "id": "e7881825-7d79-4a36-b559-630476ffc7f9",
   "metadata": {},
   "source": [
    "## Part 2- Exploratory Data Analysis\n",
    "\n",
    "The objectives of this section are:\n",
    " - Visualizing individual feature patterns\n",
    " - Running descriptive statistical analysis\n",
    " - Using groups and pivot tables to find the effect of categorical variables on price\n",
    " - Using Pearson Correlation to measure the interdependence between variables"
   ]
  },
  {
   "cell_type": "code",
   "execution_count": 12,
   "id": "2734b70a-0e97-4dd9-b616-94b4e8dafdf9",
   "metadata": {},
   "outputs": [],
   "source": [
    "import seaborn as sns\n",
    "from scipy import stats"
   ]
  },
  {
   "cell_type": "markdown",
   "metadata": {},
   "source": [
    "# Descriptive Statistical Analysis"
   ]
  },
  {
   "cell_type": "code",
   "execution_count": 35,
   "metadata": {},
   "outputs": [
    {
     "name": "stdout",
     "output_type": "stream",
     "text": [
      "         Category         GPU          OS    CPU_core  Screen_Size_cm  \\\n",
      "count  238.000000  238.000000  238.000000  238.000000      238.000000   \n",
      "mean     3.205882    2.151261    1.058824    5.630252       37.309185   \n",
      "std      0.776533    0.638282    0.235790    1.241787        2.961753   \n",
      "min      1.000000    1.000000    1.000000    3.000000       30.480000   \n",
      "25%      3.000000    2.000000    1.000000    5.000000       35.560000   \n",
      "50%      3.000000    2.000000    1.000000    5.000000       38.100000   \n",
      "75%      4.000000    3.000000    1.000000    7.000000       39.624000   \n",
      "max      5.000000    3.000000    2.000000    7.000000       43.942000   \n",
      "\n",
      "       CPU_frequency      RAM_GB  Storage_GB_SSD   Weight_kg        Price  \n",
      "count     238.000000  238.000000      238.000000  238.000000   238.000000  \n",
      "mean        0.813822    7.882353      245.781513    1.862232  1462.344538  \n",
      "std         0.141860    2.482603       34.765316    0.489090   574.607699  \n",
      "min         0.413793    4.000000      128.000000    0.810000   527.000000  \n",
      "25%         0.689655    8.000000      256.000000    1.472500  1066.500000  \n",
      "50%         0.862069    8.000000      256.000000    1.862232  1333.000000  \n",
      "75%         0.931034    8.000000      256.000000    2.200000  1777.000000  \n",
      "max         1.000000   16.000000      256.000000    3.600000  3810.000000  \n",
      "       Manufacturer\n",
      "count           238\n",
      "unique           11\n",
      "top            Dell\n",
      "freq             71\n"
     ]
    }
   ],
   "source": [
    "print(df.describe())\n",
    "print(df.describe(include=['object']))"
   ]
  },
  {
   "cell_type": "markdown",
   "id": "e5accdfb-d822-410f-8522-47bbb142d3a4",
   "metadata": {},
   "source": [
    "# Visualizing individual feature patterns\n",
    "For continuous variables, generating regression plots for \"CPU_frequency\", \"Screen_Size_inch\" and \"Weight_pounds\" against \"Price\"."
   ]
  },
  {
   "cell_type": "code",
   "execution_count": 23,
   "id": "70c2e7a0-fce7-4f4d-bed6-798ccf47a477",
   "metadata": {},
   "outputs": [
    {
     "data": {
      "text/html": [
       "<div>\n",
       "<style scoped>\n",
       "    .dataframe tbody tr th:only-of-type {\n",
       "        vertical-align: middle;\n",
       "    }\n",
       "\n",
       "    .dataframe tbody tr th {\n",
       "        vertical-align: top;\n",
       "    }\n",
       "\n",
       "    .dataframe thead th {\n",
       "        text-align: right;\n",
       "    }\n",
       "</style>\n",
       "<table border=\"1\" class=\"dataframe\">\n",
       "  <thead>\n",
       "    <tr style=\"text-align: right;\">\n",
       "      <th></th>\n",
       "      <th>CPU_frequency</th>\n",
       "      <th>Screen_Size_cm</th>\n",
       "      <th>Weight_kg</th>\n",
       "      <th>Price</th>\n",
       "    </tr>\n",
       "  </thead>\n",
       "  <tbody>\n",
       "    <tr>\n",
       "      <th>CPU_frequency</th>\n",
       "      <td>1.000000</td>\n",
       "      <td>-0.000948</td>\n",
       "      <td>0.066522</td>\n",
       "      <td>0.366666</td>\n",
       "    </tr>\n",
       "    <tr>\n",
       "      <th>Screen_Size_cm</th>\n",
       "      <td>-0.000948</td>\n",
       "      <td>1.000000</td>\n",
       "      <td>0.797534</td>\n",
       "      <td>-0.110644</td>\n",
       "    </tr>\n",
       "    <tr>\n",
       "      <th>Weight_kg</th>\n",
       "      <td>0.066522</td>\n",
       "      <td>0.797534</td>\n",
       "      <td>1.000000</td>\n",
       "      <td>-0.050312</td>\n",
       "    </tr>\n",
       "    <tr>\n",
       "      <th>Price</th>\n",
       "      <td>0.366666</td>\n",
       "      <td>-0.110644</td>\n",
       "      <td>-0.050312</td>\n",
       "      <td>1.000000</td>\n",
       "    </tr>\n",
       "  </tbody>\n",
       "</table>\n",
       "</div>"
      ],
      "text/plain": [
       "                CPU_frequency  Screen_Size_cm  Weight_kg     Price\n",
       "CPU_frequency        1.000000       -0.000948   0.066522  0.366666\n",
       "Screen_Size_cm      -0.000948        1.000000   0.797534 -0.110644\n",
       "Weight_kg            0.066522        0.797534   1.000000 -0.050312\n",
       "Price                0.366666       -0.110644  -0.050312  1.000000"
      ]
     },
     "execution_count": 23,
     "metadata": {},
     "output_type": "execute_result"
    },
    {
     "data": {
      "image/png": "[encoded data removed]",
      "text/plain": [
       "<Figure size 1280x480 with 3 Axes>"
      ]
     },
     "metadata": {},
     "output_type": "display_data"
    }
   ],
   "source": [
    "fig, axes = plt.subplots(1, 3)\n",
    "for k, feature in enumerate([\"CPU_frequency\", \"Screen_Size_cm\", \"Weight_kg\"]):\n",
    "    sns.regplot(x=feature, y=\"Price\", data=df, ax=axes[k])\n",
    "fig.set_size_inches([12.8, 4.8])\n",
    "df[[\"CPU_frequency\", \"Screen_Size_cm\", \"Weight_kg\", \"Price\"]].corr()"
   ]
  },
  {
   "cell_type": "markdown",
   "id": "a330a759-0682-49d5-befc-30d48bb419c8",
   "metadata": {},
   "source": [
    "\"CPU_frequency\" has a 36% positive correlation with the price of the laptops. The other two parameters have weak correlation with price.\n"
   ]
  },
  {
   "cell_type": "markdown",
   "id": "bcec3412-5892-4187-ade4-dd1534ddf9bf",
   "metadata": {},
   "source": [
    "For categorical features, generating Box plots for \"Category\", \"GPU\", \"OS\", \"CPU_core\", \"RAM_GB\", \"Storage_GB_SSD\"."
   ]
  },
  {
   "cell_type": "code",
   "execution_count": 34,
   "id": "27075dc8-1dab-4a9a-8776-3cdd372c518f",
   "metadata": {},
   "outputs": [
    {
     "data": {
      "image/png": "[encoded data removed]",
      "text/plain": [
       "<Figure size 1280x720 with 6 Axes>"
      ]
     },
     "metadata": {},
     "output_type": "display_data"
    }
   ],
   "source": [
    "fig, axes = plt.subplots(2, 3)\n",
    "for k, feature in enumerate([\"Category\", \"GPU\", \"OS\", \"CPU_core\", \"RAM_GB\", \"Storage_GB_SSD\"]):\n",
    "    sns.boxplot(x=feature, y=\"Price\", data=df, ax=axes[k//3, np.mod(k, 3)])\n",
    "fig.set_size_inches([2*6.4, 1.5*4.8])"
   ]
  },
  {
   "cell_type": "markdown",
   "id": "5f13444d-10a5-4165-a4d7-3a662ce9f507",
   "metadata": {},
   "source": [
    "# GroupBy and Pivot Tables\n",
    "Grouping \"GPU\", \"CPU_core\" and \"Price\" to make a pivot table and visualizing the connection."
   ]
  },
  {
   "cell_type": "code",
   "execution_count": 41,
   "id": "f31fe111-f8f0-4d71-88c6-dee6419a3bf5",
   "metadata": {},
   "outputs": [
    {
     "data": {
      "text/html": [
       "<div>\n",
       "<style scoped>\n",
       "    .dataframe tbody tr th:only-of-type {\n",
       "        vertical-align: middle;\n",
       "    }\n",
       "\n",
       "    .dataframe tbody tr th {\n",
       "        vertical-align: top;\n",
       "    }\n",
       "\n",
       "    .dataframe thead th {\n",
       "        text-align: right;\n",
       "    }\n",
       "</style>\n",
       "<table border=\"1\" class=\"dataframe\">\n",
       "  <thead>\n",
       "    <tr style=\"text-align: right;\">\n",
       "      <th></th>\n",
       "      <th>GPU</th>\n",
       "      <th>CPU_core</th>\n",
       "      <th>Price</th>\n",
       "    </tr>\n",
       "  </thead>\n",
       "  <tbody>\n",
       "    <tr>\n",
       "      <th>0</th>\n",
       "      <td>1</td>\n",
       "      <td>3</td>\n",
       "      <td>769.250000</td>\n",
       "    </tr>\n",
       "    <tr>\n",
       "      <th>1</th>\n",
       "      <td>1</td>\n",
       "      <td>5</td>\n",
       "      <td>998.500000</td>\n",
       "    </tr>\n",
       "    <tr>\n",
       "      <th>2</th>\n",
       "      <td>1</td>\n",
       "      <td>7</td>\n",
       "      <td>1167.941176</td>\n",
       "    </tr>\n",
       "    <tr>\n",
       "      <th>3</th>\n",
       "      <td>2</td>\n",
       "      <td>3</td>\n",
       "      <td>785.076923</td>\n",
       "    </tr>\n",
       "    <tr>\n",
       "      <th>4</th>\n",
       "      <td>2</td>\n",
       "      <td>5</td>\n",
       "      <td>1462.197674</td>\n",
       "    </tr>\n",
       "    <tr>\n",
       "      <th>5</th>\n",
       "      <td>2</td>\n",
       "      <td>7</td>\n",
       "      <td>1744.621622</td>\n",
       "    </tr>\n",
       "    <tr>\n",
       "      <th>6</th>\n",
       "      <td>3</td>\n",
       "      <td>3</td>\n",
       "      <td>784.000000</td>\n",
       "    </tr>\n",
       "    <tr>\n",
       "      <th>7</th>\n",
       "      <td>3</td>\n",
       "      <td>5</td>\n",
       "      <td>1220.680000</td>\n",
       "    </tr>\n",
       "    <tr>\n",
       "      <th>8</th>\n",
       "      <td>3</td>\n",
       "      <td>7</td>\n",
       "      <td>1945.097561</td>\n",
       "    </tr>\n",
       "  </tbody>\n",
       "</table>\n",
       "</div>"
      ],
      "text/plain": [
       "   GPU  CPU_core        Price\n",
       "0    1         3   769.250000\n",
       "1    1         5   998.500000\n",
       "2    1         7  1167.941176\n",
       "3    2         3   785.076923\n",
       "4    2         5  1462.197674\n",
       "5    2         7  1744.621622\n",
       "6    3         3   784.000000\n",
       "7    3         5  1220.680000\n",
       "8    3         7  1945.097561"
      ]
     },
     "execution_count": 41,
     "metadata": {},
     "output_type": "execute_result"
    }
   ],
   "source": [
    "df_grouped = df[[\"GPU\", \"CPU_core\", \"Price\"]].groupby([\"GPU\", \"CPU_core\"], as_index=False).mean()\n",
    "df_grouped"
   ]
  },
  {
   "cell_type": "code",
   "execution_count": 44,
   "id": "b794b3a8-719f-419f-9c96-b276fa549de2",
   "metadata": {},
   "outputs": [
    {
     "data": {
      "text/html": [
       "<div>\n",
       "<style scoped>\n",
       "    .dataframe tbody tr th:only-of-type {\n",
       "        vertical-align: middle;\n",
       "    }\n",
       "\n",
       "    .dataframe tbody tr th {\n",
       "        vertical-align: top;\n",
       "    }\n",
       "\n",
       "    .dataframe thead tr th {\n",
       "        text-align: left;\n",
       "    }\n",
       "\n",
       "    .dataframe thead tr:last-of-type th {\n",
       "        text-align: right;\n",
       "    }\n",
       "</style>\n",
       "<table border=\"1\" class=\"dataframe\">\n",
       "  <thead>\n",
       "    <tr>\n",
       "      <th></th>\n",
       "      <th colspan=\"3\" halign=\"left\">Price</th>\n",
       "    </tr>\n",
       "    <tr>\n",
       "      <th>CPU_core</th>\n",
       "      <th>3</th>\n",
       "      <th>5</th>\n",
       "      <th>7</th>\n",
       "    </tr>\n",
       "    <tr>\n",
       "      <th>GPU</th>\n",
       "      <th></th>\n",
       "      <th></th>\n",
       "      <th></th>\n",
       "    </tr>\n",
       "  </thead>\n",
       "  <tbody>\n",
       "    <tr>\n",
       "      <th>1</th>\n",
       "      <td>769.250000</td>\n",
       "      <td>998.500000</td>\n",
       "      <td>1167.941176</td>\n",
       "    </tr>\n",
       "    <tr>\n",
       "      <th>2</th>\n",
       "      <td>785.076923</td>\n",
       "      <td>1462.197674</td>\n",
       "      <td>1744.621622</td>\n",
       "    </tr>\n",
       "    <tr>\n",
       "      <th>3</th>\n",
       "      <td>784.000000</td>\n",
       "      <td>1220.680000</td>\n",
       "      <td>1945.097561</td>\n",
       "    </tr>\n",
       "  </tbody>\n",
       "</table>\n",
       "</div>"
      ],
      "text/plain": [
       "               Price                          \n",
       "CPU_core           3            5            7\n",
       "GPU                                           \n",
       "1         769.250000   998.500000  1167.941176\n",
       "2         785.076923  1462.197674  1744.621622\n",
       "3         784.000000  1220.680000  1945.097561"
      ]
     },
     "execution_count": 44,
     "metadata": {},
     "output_type": "execute_result"
    }
   ],
   "source": [
    "grouped_pivot = df_grouped.pivot(index='GPU', columns='CPU_core')\n",
    "grouped_pivot"
   ]
  },
  {
   "cell_type": "code",
   "execution_count": 84,
   "id": "88d2a8cf-ffe4-40aa-9bac-cb1779f994c4",
   "metadata": {},
   "outputs": [
    {
     "data": {
      "text/plain": [
       "<matplotlib.colorbar.Colorbar at 0x16cae91d0>"
      ]
     },
     "execution_count": 84,
     "metadata": {},
     "output_type": "execute_result"
    },
    {
     "data": {
      "image/png": "[encoded data removed]",
      "text/plain": [
       "<Figure size 640x480 with 2 Axes>"
      ]
     },
     "metadata": {},
     "output_type": "display_data"
    }
   ],
   "source": [
    "fig, ax = plt.subplots()\n",
    "im = ax.pcolor(grouped_pivot, cmap='RdBu')\n",
    "\n",
    "row_labels = grouped_pivot.columns.levels[1]\n",
    "col_labels = grouped_pivot.index\n",
    "ax.set_xticks(np.arange(grouped_pivot.shape[1]) + 0.5, minor=False)\n",
    "ax.set_yticks(np.arange(grouped_pivot.shape[0]) + 0.5, minor=False)\n",
    "ax.set_xticklabels(row_labels, minor=False)\n",
    "ax.set_yticklabels(col_labels, minor=False)\n",
    "ax.set_xlabel(\"CPU cores\")\n",
    "ax.set_ylabel(\"GPU\")\n",
    "\n",
    "fig.colorbar(im)"
   ]
  },
  {
   "cell_type": "markdown",
   "id": "47cb8d6d-6c35-4586-bf75-ff73ca0904d7",
   "metadata": {},
   "source": [
    "Evaluating the Pearson Coefficient and the p-values for each parameter to determine the features with most effect on the price"
   ]
  },
  {
   "cell_type": "code",
   "execution_count": 91,
   "id": "9eabb5bf-b794-4553-bbaa-b27808e8e04e",
   "metadata": {},
   "outputs": [
    {
     "name": "stdout",
     "output_type": "stream",
     "text": [
      "Category\n",
      "Pearson Correlation Coefficient =  0.2862427558126411 \t p-value =  7.2256962358084185e-06\n",
      "\n",
      "GPU\n",
      "Pearson Correlation Coefficient =  0.28829819888814257 \t p-value =  6.16694969836594e-06\n",
      "\n",
      "OS\n",
      "Pearson Correlation Coefficient =  -0.2217298011482737 \t p-value =  0.0005696642559248124\n",
      "\n",
      "CPU_core\n",
      "Pearson Correlation Coefficient =  0.4593977773355116 \t p-value =  7.912950127011088e-14\n",
      "\n",
      "Screen_Size_cm\n",
      "Pearson Correlation Coefficient =  -0.11064420817118295 \t p-value =  0.0885339784683266\n",
      "\n",
      "CPU_frequency\n",
      "Pearson Correlation Coefficient =  0.3666655589258862 \t p-value =  5.502463350714563e-09\n",
      "\n",
      "RAM_GB\n",
      "Pearson Correlation Coefficient =  0.5492972971857846 \t p-value =  3.681560628843529e-20\n",
      "\n",
      "Storage_GB_SSD\n",
      "Pearson Correlation Coefficient =  0.24342075521810302 \t p-value =  0.00014898923191727792\n",
      "\n",
      "Weight_kg\n",
      "Pearson Correlation Coefficient =  -0.05031225837751543 \t p-value =  0.4397693853434932\n",
      "\n",
      "Screen-Full_HD\n",
      "Pearson Correlation Coefficient =  -0.021074572471421662 \t p-value =  0.7463568309778249\n",
      "\n"
     ]
    }
   ],
   "source": [
    "for param in ['Category', 'GPU', 'OS', 'CPU_core', 'Screen_Size_cm', 'CPU_frequency',\n",
    "              'RAM_GB', 'Storage_GB_SSD', 'Weight_kg', 'Screen-Full_HD']:\n",
    "    pearson_coef, p_value = stats.pearsonr(df[param], df['Price'])\n",
    "    print(param)\n",
    "    print(\"Pearson Correlation Coefficient = \", pearson_coef, \"\\t p-value = \", p_value)\n",
    "    print()"
   ]
  }
 ],
 "metadata": {
  "kernelspec": {
   "display_name": "Python 3",
   "language": "python",
   "name": "python3"
  },
  "language_info": {
   "codemirror_mode": {
    "name": "ipython",
    "version": 3
   },
   "file_extension": ".py",
   "mimetype": "text/x-python",
   "name": "python",
   "nbconvert_exporter": "python",
   "pygments_lexer": "ipython3",
   "version": "3.11.1"
  }
 },
 "nbformat": 4,
 "nbformat_minor": 4
}
